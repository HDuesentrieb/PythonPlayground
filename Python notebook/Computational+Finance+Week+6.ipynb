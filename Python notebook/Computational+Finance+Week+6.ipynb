{
 "cells": [
  {
   "cell_type": "code",
   "execution_count": 1,
   "metadata": {
    "collapsed": true
   },
   "outputs": [],
   "source": [
    "import pandas\n",
    "from pandas_datareader import data\n",
    "import datetime\n",
    "import numpy as np\n",
    "import matplotlib.pyplot as plt\n",
    "from scipy.stats.kde import gaussian_kde\n",
    "from numpy import linspace\n",
    "import scipy.stats as stats"
   ]
  },
  {
   "cell_type": "code",
   "execution_count": 2,
   "metadata": {
    "collapsed": true
   },
   "outputs": [],
   "source": [
    "#Download the data and calculate the returns"
   ]
  },
  {
   "cell_type": "code",
   "execution_count": 16,
   "metadata": {
    "collapsed": true
   },
   "outputs": [],
   "source": [
    "VBLTX_prices = data.DataReader('vbltx',  'yahoo', datetime.date(2005, 9, 1), datetime.date(2010,9,30))[\"Adj Close\"]\n",
    "FMAGX_prices = data.DataReader('fmagx',  'yahoo', datetime.date(2005, 9, 1), datetime.date(2010,9,30))[\"Adj Close\"]\n",
    "SBUX_prices = data.DataReader('sbux',  'yahoo', datetime.date(2005, 9, 1), datetime.date(2010,9,30))[\"Adj Close\"]\n",
    "\n",
    "VBLTX_prices = VBLTX_prices.resample('1M').last()\n",
    "FMAGX_prices = FMAGX_prices.resample('1M').last()\n",
    "SBUX_prices = SBUX_prices.resample('1M').last()\n",
    "\n",
    "VBLTX_prices.index = list(map(lambda dt: datetime.date(dt.year, dt.month, 1), VBLTX_prices.index))\n",
    "FMAGX_prices.index = list(map(lambda dt: datetime.date(dt.year, dt.month, 1), FMAGX_prices.index))\n",
    "SBUX_prices.index = list(map(lambda dt: datetime.date(dt.year, dt.month, 1), SBUX_prices.index))\n",
    "\n",
    "all_prices = pandas.concat([VBLTX_prices, FMAGX_prices, SBUX_prices], join='outer', axis=1)\n",
    "all_prices.columns = [\"VBLTX\", \"FMAGX\", \"SBUX\"]\n"
   ]
  },
  {
   "cell_type": "code",
   "execution_count": 5,
   "metadata": {
    "collapsed": true
   },
   "outputs": [],
   "source": [
    "#The standard error of the variances"
   ]
  },
  {
   "cell_type": "code",
   "execution_count": 22,
   "metadata": {},
   "outputs": [
    {
     "data": {
      "text/plain": [
       "VBLTX    0.000158\n",
       "FMAGX    0.000823\n",
       "SBUX     0.001960\n",
       "dtype: float64"
      ]
     },
     "execution_count": 22,
     "metadata": {},
     "output_type": "execute_result"
    }
   ],
   "source": [
    "all_returns = np.log(all_prices).diff()[1:]\n",
    "\n",
    "n_obs = all_returns.shape[0]\n",
    "\n",
    "sigma2hat_vals = all_returns.var()\n",
    "se_sigma2hat = sigma2hat_vals/np.sqrt(n_obs/2)\n",
    "\n",
    "se_sigma2hat"
   ]
  },
  {
   "cell_type": "code",
   "execution_count": 23,
   "metadata": {},
   "outputs": [
    {
     "data": {
      "text/html": [
       "<div>\n",
       "<table border=\"1\" class=\"dataframe\">\n",
       "  <thead>\n",
       "    <tr style=\"text-align: right;\">\n",
       "      <th></th>\n",
       "      <th>Rho hat</th>\n",
       "    </tr>\n",
       "  </thead>\n",
       "  <tbody>\n",
       "    <tr>\n",
       "      <th>VBLTX,FMAGX</th>\n",
       "      <td>0.124565</td>\n",
       "    </tr>\n",
       "    <tr>\n",
       "      <th>VBLTX,SBUX</th>\n",
       "      <td>0.126729</td>\n",
       "    </tr>\n",
       "    <tr>\n",
       "      <th>FMAGX,SBUX</th>\n",
       "      <td>0.080578</td>\n",
       "    </tr>\n",
       "  </tbody>\n",
       "</table>\n",
       "</div>"
      ],
      "text/plain": [
       "              Rho hat\n",
       "VBLTX,FMAGX  0.124565\n",
       "VBLTX,SBUX   0.126729\n",
       "FMAGX,SBUX   0.080578"
      ]
     },
     "execution_count": 23,
     "metadata": {},
     "output_type": "execute_result"
    }
   ],
   "source": [
    "cor_matrix = all_returns.corr()\n",
    "cor_matrix = np.asarray(cor_matrix)\n",
    "\n",
    "rhohat_vals = pandas.DataFrame(cor_matrix[np.triu_indices(3, 1)])\n",
    "rhohat_vals.index = [\"VBLTX,FMAGX\",\"VBLTX,SBUX\",\"FMAGX,SBUX\"]\n",
    "\n",
    "se_rhohat = (1-rhohat_vals**2)/np.sqrt(all_returns.shape[0])\n",
    "se_rhohat.columns = ['Rho hat']\n",
    "se_rhohat"
   ]
  },
  {
   "cell_type": "code",
   "execution_count": 51,
   "metadata": {
    "collapsed": true
   },
   "outputs": [],
   "source": [
    "#Hypothesis test for the mean"
   ]
  },
  {
   "cell_type": "code",
   "execution_count": 24,
   "metadata": {},
   "outputs": [
    {
     "name": "stdout",
     "output_type": "stream",
     "text": [
      "The t-statistic is 1.554 and the p-value is 0.126.\n"
     ]
    }
   ],
   "source": [
    "one_sample = stats.ttest_1samp(all_returns[\"VBLTX\"],0.0)\n",
    "\n",
    "print(\"The t-statistic is %.3f and the p-value is %.3f.\" % one_sample)"
   ]
  },
  {
   "cell_type": "code",
   "execution_count": 57,
   "metadata": {
    "collapsed": true
   },
   "outputs": [],
   "source": [
    "#Hypothesis test for the correlation"
   ]
  },
  {
   "cell_type": "code",
   "execution_count": 40,
   "metadata": {},
   "outputs": [
    {
     "name": "stdout",
     "output_type": "stream",
     "text": [
      "correlation coefficient: 0.187 and the p-value is 0.152\n",
      "95 percent confidence interval: \n",
      "-0.06983 0.42129\n"
     ]
    }
   ],
   "source": [
    "corr = stats.pearsonr(all_returns[\"VBLTX\"], all_returns[\"FMAGX\"])  #may be wrong?\n",
    "\n",
    "z = np.arctanh(corr[0])\n",
    "\n",
    "sigma = (1/((len(all_returns.index)-3)**0.5))\n",
    "\n",
    "cint = z + np.array([-1, 1]) * sigma * stats.norm.ppf((1+0.95)/2)\n",
    "\n",
    "cintVal = np.tanh(cint)\n",
    "\n",
    "print(\"correlation coefficient: %.3f and the p-value is %.3f\" % corr)\n",
    "print(\"95 percent confidence interval: \\n%.5f %.5f\" % (cintVal[0], cintVal[1]))"
   ]
  },
  {
   "cell_type": "code",
   "execution_count": 42,
   "metadata": {},
   "outputs": [
    {
     "name": "stdout",
     "output_type": "stream",
     "text": [
      "correlation coefficient: -0.136 and the p-value is 0.302\n",
      "95 percent confidence interval: \n",
      "-0.37649 0.12263\n"
     ]
    }
   ],
   "source": [
    "corr = stats.pearsonr(all_returns[\"VBLTX\"], all_returns[\"SBUX\"])  #may be wrong?\n",
    "\n",
    "z = np.arctanh(corr[0])\n",
    "\n",
    "sigma = (1/((len(all_returns.index)-3)**0.5))\n",
    "\n",
    "cint = z + np.array([-1, 1]) * sigma * stats.norm.ppf((1+0.95)/2)\n",
    "\n",
    "cintVal = np.tanh(cint)\n",
    "\n",
    "print(\"correlation coefficient: %.3f and the p-value is %.3f\" % corr)\n",
    "print(\"95 percent confidence interval: \\n%.5f %.5f\" % (cintVal[0], cintVal[1]))"
   ]
  },
  {
   "cell_type": "code",
   "execution_count": 59,
   "metadata": {
    "collapsed": true
   },
   "outputs": [],
   "source": [
    "#Normality of the asset returns"
   ]
  },
  {
   "cell_type": "code",
   "execution_count": 44,
   "metadata": {},
   "outputs": [
    {
     "name": "stdout",
     "output_type": "stream",
     "text": [
      "X-squared = 22.258, p-value = 0.000015\n"
     ]
    }
   ],
   "source": [
    "result = stats.jarque_bera(all_returns[\"VBLTX\"])\n",
    "\n",
    "print(\"X-squared = %.3f, p-value = %f\" % result)"
   ]
  },
  {
   "cell_type": "code",
   "execution_count": 45,
   "metadata": {},
   "outputs": [
    {
     "name": "stdout",
     "output_type": "stream",
     "text": [
      "X-squared = 26.001, p-value = 0.000002\n"
     ]
    }
   ],
   "source": [
    "result = stats.jarque_bera(all_returns[\"FMAGX\"])\n",
    "\n",
    "print(\"X-squared = %.3f, p-value = %f\" % result)"
   ]
  },
  {
   "cell_type": "code",
   "execution_count": 81,
   "metadata": {},
   "outputs": [
    {
     "name": "stdout",
     "output_type": "stream",
     "text": [
      "Original mean 0.005897\n",
      "Boostrap mean 0.005897 bias: 0.000071 std. error 0.000124\n"
     ]
    }
   ],
   "source": [
    "def bootstrap_resample(X, n=None):\n",
    "    \"\"\" Bootstrap resample an array_like\n",
    "    Parameters\n",
    "    ----------\n",
    "    X : array_like\n",
    "      data to resample\n",
    "    n : int, optional\n",
    "      length of resampled array, equal to len(X) if n==None\n",
    "    Results\n",
    "    -------\n",
    "    returns X_resamples\n",
    "    \"\"\"\n",
    "    if n == None:\n",
    "        n = len(X)\n",
    "        \n",
    "    resample_i = np.floor(np.random.rand(n)*len(X)).astype(int)\n",
    "    X_resample = X[resample_i]\n",
    "    return X_resample\n",
    "\n",
    "mean_list = []\n",
    "\n",
    "for i in range (1, 1000):\n",
    "    X_sample = bootstrap_resample(all_returns['VBLTX'])\n",
    "    mean_list.append(np.mean(X_sample))\n",
    "    \n",
    "bias = np.sum(mean_list - np.mean(all_returns['VBLTX']))/len(mean_list)\n",
    "std_error = np.std(mean_list)/np.sqrt(len(mean_list))\n",
    "\n",
    "print(\"Original mean %.6f\" % np.mean(all_returns['VBLTX']))\n",
    "print(\"Boostrap mean %.6f bias: %.6f std. error %.6f\" % (np.mean(mean_list), bias, std_error))\n"
   ]
  },
  {
   "cell_type": "code",
   "execution_count": 82,
   "metadata": {},
   "outputs": [
    {
     "data": {
      "image/png": "[encoded data removed]",
      "text/plain": [
       "<matplotlib.figure.Figure at 0x7f12ee098048>"
      ]
     },
     "metadata": {},
     "output_type": "display_data"
    }
   ],
   "source": [
    "plt.close('all')\n",
    "fig, ((ax1), (ax2)) = plt.subplots(nrows=1, ncols=2)\n",
    "# the histogram of the data\n",
    "\n",
    "n, bins, patches = ax1.hist(mean_list, 40, normed=1, facecolor='blue', alpha=0.75, )\n",
    "\n",
    "ax1.set_xlabel('Histogram of mean')\n",
    "ax1.set_ylabel('Density')\n",
    "ax1.set_title('bootstrap mean')\n",
    "\n",
    "stats.probplot(mean_list, dist=\"norm\", plot=ax2)\n",
    "\n",
    "plt.tight_layout()\n",
    "plt.show()"
   ]
  },
  {
   "cell_type": "code",
   "execution_count": null,
   "metadata": {
    "collapsed": true
   },
   "outputs": [],
   "source": []
  }
 ],
 "metadata": {
  "kernelspec": {
   "display_name": "Python 3",
   "language": "python",
   "name": "python3"
  },
  "language_info": {
   "codemirror_mode": {
    "name": "ipython",
    "version": 3
   },
   "file_extension": ".py",
   "mimetype": "text/x-python",
   "name": "python",
   "nbconvert_exporter": "python",
   "pygments_lexer": "ipython3",
   "version": "3.5.2"
  }
 },
 "nbformat": 4,
 "nbformat_minor": 2
}
