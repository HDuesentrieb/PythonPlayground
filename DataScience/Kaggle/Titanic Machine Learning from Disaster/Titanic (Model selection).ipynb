{
 "cells": [
  {
   "cell_type": "markdown",
   "metadata": {},
   "source": [
    "In this notebook, the following models are to be tested. They are:\n",
    "\n",
    "1. Linear / Logistic\n",
    "2. Naive Bayes\n",
    "3. SVM\n",
    "4. Random Forest\n",
    "5. Neural network"
   ]
  },
  {
   "cell_type": "code",
   "execution_count": 1,
   "metadata": {},
   "outputs": [
    {
     "name": "stderr",
     "output_type": "stream",
     "text": [
      "c:\\users\\ymlai\\anaconda3\\envs\\tensorflow\\lib\\site-packages\\sklearn\\cross_validation.py:44: DeprecationWarning: This module was deprecated in version 0.18 in favor of the model_selection module into which all the refactored classes and functions are moved. Also note that the interface of the new CV iterators are different from that of this module. This module will be removed in 0.20.\n",
      "  \"This module will be removed in 0.20.\", DeprecationWarning)\n"
     ]
    }
   ],
   "source": [
    "import numpy as np\n",
    "import tensorflow as tf\n",
    "import matplotlib.pyplot as plt\n",
    "import pandas\n",
    "from xgboost import XGBClassifier\n",
    "from sklearn.model_selection import train_test_split\n",
    "from sklearn.metrics import accuracy_score\n",
    "from sklearn.preprocessing import LabelEncoder, StandardScaler\n",
    "import math\n",
    "import seaborn as sns\n",
    "from six.moves import cPickle as pickle\n",
    "\n",
    "%matplotlib inline"
   ]
  },
  {
   "cell_type": "markdown",
   "metadata": {},
   "source": [
    "## Convert train data to one-hot-encoding\n",
    "\n",
    "This is to build a data model easily fit into different machine learning model below:"
   ]
  },
  {
   "cell_type": "code",
   "execution_count": 2,
   "metadata": {
    "collapsed": true
   },
   "outputs": [],
   "source": [
    "train_ds_file = 'train_dataset.pickle'\n",
    "train_lb_file = 'train_label.pickle'\n",
    "test_ds_file = 'test_dataset.pickle'\n",
    "\n",
    "with open(train_ds_file, 'rb') as f:\n",
    "    train_dataset = pickle.load(f)\n",
    "    \n",
    "with open(train_lb_file, 'rb') as f:\n",
    "    train_label = pickle.load(f)\n",
    "    \n",
    "with open(test_ds_file, 'rb') as f:\n",
    "    test_dataset = pickle.load(f)"
   ]
  },
  {
   "cell_type": "code",
   "execution_count": 3,
   "metadata": {},
   "outputs": [],
   "source": [
    "def transform_ds_to_input(dataset):\n",
    "    columns = [\"Pclass\", \"Embarked_enc\", \"Salutation_enc\", \"CabinArea_enc\"]\n",
    "    ds_onehot = dataset[[\"Pclass\", \"Sex_enc\", \"SibSp\", \"Parch\", \"Fare\", \"CabinArea_enc\",\\\n",
    "                                       \"Embarked_enc\", \"Salutation_enc\", \"FamilyMember\"]]\n",
    "    ds_onehot = pandas.get_dummies(ds_onehot, sparse=True, columns=columns)\n",
    "    scaler = StandardScaler().fit(ds_onehot)\n",
    "    ds_onehot_scaled = scaler.transform(ds_onehot) \n",
    "    return ds_onehot_scaled\n",
    "\n",
    "full_dataset = pandas.concat([train_dataset, test_dataset])\n",
    "full_dataset_onehot = transform_ds_to_input(full_dataset)\n",
    "train_dataset_onehot= full_dataset_onehot[:len(train_dataset)]\n",
    "test_dataset_onehot = full_dataset_onehot[len(train_dataset):]"
   ]
  },
  {
   "cell_type": "markdown",
   "metadata": {},
   "source": [
    "## Model selection"
   ]
  },
  {
   "cell_type": "code",
   "execution_count": 4,
   "metadata": {
    "collapsed": true
   },
   "outputs": [],
   "source": [
    "seed = 10\n",
    "test_size = 0.3\n",
    "X_train, X_test, y_train, y_test = train_test_split(train_dataset_onehot, train_label, test_size=test_size, random_state=seed)"
   ]
  },
  {
   "cell_type": "code",
   "execution_count": 5,
   "metadata": {
    "collapsed": true
   },
   "outputs": [],
   "source": [
    "from sklearn.linear_model import LogisticRegression\n",
    "\n",
    "def default_logistic(X_train, y_train, X_test):\n",
    "    clf = LogisticRegression()      \n",
    "    clf.fit(X_train, y_train)\n",
    "\n",
    "    # make predictions for test data\n",
    "    y_pred = clf.predict(X_test)\n",
    "    predictions = [round(value) for value in y_pred]\n",
    "    \n",
    "    return predictions"
   ]
  },
  {
   "cell_type": "code",
   "execution_count": 6,
   "metadata": {
    "collapsed": true
   },
   "outputs": [],
   "source": [
    "# Naive Bayes\n",
    "from sklearn.naive_bayes import GaussianNB, MultinomialNB, BernoulliNB\n",
    "\n",
    "def default_gauss_nb(X_train, y_train, X_test):\n",
    "    gnb = GaussianNB()\n",
    "    gnb.fit(X_train, y_train)\n",
    "\n",
    "    y_pred = gnb.predict(X_test)\n",
    "    predictions = [round(value) for value in y_pred]\n",
    "    \n",
    "    return predictions\n",
    "\n",
    "def default_multinom_nb(X_train, y_train, X_test):\n",
    "    gnb = MultinomialNB()\n",
    "    gnb.fit(X_train, y_train)\n",
    "\n",
    "    y_pred = gnb.predict(X_test)\n",
    "    predictions = [round(value) for value in y_pred]\n",
    "\n",
    "    return predictions\n",
    "\n",
    "def default_bernoulli_nb(X_train, y_train, X_test):\n",
    "    gnb = BernoulliNB()\n",
    "    gnb.fit(X_train, y_train)\n",
    "\n",
    "    y_pred = gnb.predict(X_test)\n",
    "    predictions = [round(value) for value in y_pred]\n",
    "\n",
    "    return predictions"
   ]
  },
  {
   "cell_type": "code",
   "execution_count": 7,
   "metadata": {
    "collapsed": true
   },
   "outputs": [],
   "source": [
    "# SVM\n",
    "from sklearn.svm import SVC\n",
    "\n",
    "def default_rbf_svm(X_train, y_train, X_test):\n",
    "    clf = SVC()\n",
    "    clf.fit(X_train, y_train) \n",
    "    y_pred = clf.predict(X_test)\n",
    "    predictions = [round(value) for value in y_pred]\n",
    "    \n",
    "    return predictions\n",
    "\n",
    "def default_linear_svm(X_train, y_train, X_test):\n",
    "    clf = SVC(kernel='linear')\n",
    "    clf.fit(X_train, y_train) \n",
    "    y_pred = clf.predict(X_test)\n",
    "    predictions = [round(value) for value in y_pred]\n",
    "    \n",
    "    return predictions\n",
    "\n",
    "def default_poly_svm(X_train, y_train, X_test):\n",
    "    clf = SVC(kernel='poly')\n",
    "    clf.fit(X_train, y_train) \n",
    "    y_pred = clf.predict(X_test)\n",
    "    predictions = [round(value) for value in y_pred]\n",
    "    \n",
    "    return predictions"
   ]
  },
  {
   "cell_type": "code",
   "execution_count": 8,
   "metadata": {
    "collapsed": true
   },
   "outputs": [],
   "source": [
    "# Random forest\n",
    "from sklearn.ensemble import RandomForestClassifier\n",
    "from sklearn.ensemble import ExtraTreesClassifier\n",
    "\n",
    "def default_rf(X_train, y_train, X_test):\n",
    "    clf = RandomForestClassifier()      \n",
    "    clf.fit(X_train, y_train)\n",
    "\n",
    "    # make predictions for test data\n",
    "    y_pred = clf.predict(X_test)\n",
    "    predictions = [round(value) for value in y_pred]\n",
    "    \n",
    "    return predictions\n",
    "\n",
    "def default_extra_tree(X_train, y_train, X_test):\n",
    "    clf = ExtraTreesClassifier()      \n",
    "    clf.fit(X_train, y_train)\n",
    "\n",
    "    # make predictions for test data\n",
    "    y_pred = clf.predict(X_test)\n",
    "    predictions = [round(value) for value in y_pred]\n",
    "    \n",
    "    return predictions"
   ]
  },
  {
   "cell_type": "code",
   "execution_count": 9,
   "metadata": {
    "collapsed": true
   },
   "outputs": [],
   "source": [
    "# neural network\n",
    "from sklearn.neural_network import MLPClassifier\n",
    "\n",
    "def default_nn(X_train, y_train, X_test):\n",
    "    clf = MLPClassifier(solver='lbfgs', alpha=1e-5,\n",
    "                         hidden_layer_sizes=(5, 2), random_state=1)\n",
    "    clf.fit(X_train, y_train) \n",
    "    y_pred = clf.predict(X_test)\n",
    "    predictions = [round(value) for value in y_pred]\n",
    "    \n",
    "    return predictions"
   ]
  },
  {
   "cell_type": "code",
   "execution_count": 10,
   "metadata": {
    "collapsed": true
   },
   "outputs": [],
   "source": [
    "# boosting \n",
    "from xgboost import XGBClassifier\n",
    "\n",
    "def default_xgboost(X_train, y_train, X_test):\n",
    "    clf = XGBClassifier()\n",
    "    clf.fit(X_train, y_train) \n",
    "    y_pred = clf.predict(X_test)\n",
    "    predictions = [round(value) for value in y_pred]\n",
    "    \n",
    "    return predictions"
   ]
  },
  {
   "cell_type": "code",
   "execution_count": 11,
   "metadata": {
    "collapsed": true
   },
   "outputs": [],
   "source": [
    "def calc_accuracy(y_test, predictions):\n",
    "    accuracy = accuracy_score(y_test, predictions)\n",
    "    return accuracy"
   ]
  },
  {
   "cell_type": "markdown",
   "metadata": {},
   "source": [
    "## Applying different models"
   ]
  },
  {
   "cell_type": "code",
   "execution_count": 12,
   "metadata": {},
   "outputs": [
    {
     "name": "stdout",
     "output_type": "stream",
     "text": [
      "Bernoulli Naive bayes Accuracy: 82.46%\n",
      "Logistic Accuracy: 81.72%\n",
      "Extra tree Accuracy: 79.85%\n",
      "Guassian Naive bayes Accuracy: 60.45%\n",
      "XGboost Accuracy: 83.58%\n",
      "RBF SVM Accuracy: 82.84%\n",
      "Polynomial SVM Accuracy: 83.96%\n",
      "Random forest Accuracy: 81.34%\n",
      "Linear SVM Accuracy: 81.34%\n",
      "Neural Network Accuracy: 81.34%\n"
     ]
    }
   ],
   "source": [
    "## now run it for ten times\n",
    "classifiers = {\"Logistic\" : default_logistic, \n",
    "               \"Guassian Naive bayes\" : default_gauss_nb, \n",
    "               #\"Multinominal Naive bayes\" : default_multinom_nb,\n",
    "               \"Bernoulli Naive bayes\" : default_bernoulli_nb,\n",
    "               \"RBF SVM\" : default_rbf_svm,\n",
    "               \"Linear SVM\" : default_linear_svm,\n",
    "               \"Polynomial SVM\" : default_poly_svm,\n",
    "               \"Random forest\" : default_rf,\n",
    "               \"Extra tree\" : default_extra_tree,\n",
    "               \"Neural Network\" : default_nn,\n",
    "               \"XGboost\": default_xgboost\n",
    "              }\n",
    "\n",
    "\n",
    "incorrect = pandas.DataFrame(columns=classifiers.keys())\n",
    "## show in graph what mistake create error\n",
    "for key, value in classifiers.items():\n",
    "    prediction = value(X_train, y_train, X_test)\n",
    "    accuracy = calc_accuracy(y_test, prediction)\n",
    "    incorrect[key] = (y_test != prediction)\n",
    "    \n",
    "    print(\"%s Accuracy: %.2f%%\" % (key, accuracy * 100.0))"
   ]
  },
  {
   "cell_type": "code",
   "execution_count": 13,
   "metadata": {},
   "outputs": [
    {
     "name": "stdout",
     "output_type": "stream",
     "text": [
      "No of instances incorrectly classified by at least 10 classifier: 13 (accuracy rate: 4.850746%)\n",
      "No of instances incorrectly classified by at least 9 classifier: 21 (accuracy rate: 7.835821%)\n",
      "No of instances incorrectly classified by at least 8 classifier: 29 (accuracy rate: 10.820896%)\n",
      "No of instances incorrectly classified by at least 7 classifier: 35 (accuracy rate: 13.059701%)\n",
      "No of instances incorrectly classified by at least 6 classifier: 44 (accuracy rate: 16.417910%)\n",
      "No of instances incorrectly classified by at least 5 classifier: 52 (accuracy rate: 19.402985%)\n",
      "No of instances incorrectly classified by at least 4 classifier: 58 (accuracy rate: 21.641791%)\n",
      "No of instances incorrectly classified by at least 3 classifier: 68 (accuracy rate: 25.373134%)\n",
      "No of instances incorrectly classified by at least 2 classifier: 80 (accuracy rate: 29.850746%)\n",
      "No of instances incorrectly classified by at least 1 classifier: 139 (accuracy rate: 51.865672%)\n"
     ]
    }
   ],
   "source": [
    "#instance most classifed incorrectly\n",
    "incorrect_sum = incorrect.sum(axis = 1)\n",
    "incorrect_sum.sort_values(ascending=False)\n",
    "\n",
    "for i in range(10, 0, -1):\n",
    "    tmp = incorrect_sum >= i\n",
    "    print(\"No of instances incorrectly classified by at least %d classifier: %d (accuracy rate: %f%%)\" % \\\n",
    "          (i, tmp.sum(), (tmp.sum()/len(prediction)) * 100))"
   ]
  },
  {
   "cell_type": "markdown",
   "metadata": {},
   "source": [
    "## Model analysis"
   ]
  },
  {
   "cell_type": "code",
   "execution_count": 14,
   "metadata": {
    "scrolled": false
   },
   "outputs": [
    {
     "data": {
      "text/plain": [
       "<matplotlib.axes._subplots.AxesSubplot at 0x2abc3ccdc18>"
      ]
     },
     "execution_count": 14,
     "metadata": {},
     "output_type": "execute_result"
    },
    {
     "data": {
      "image/png": "[encoded data removed]",
      "text/plain": [
       "<matplotlib.figure.Figure at 0x2abc3be2438>"
      ]
     },
     "metadata": {},
     "output_type": "display_data"
    }
   ],
   "source": [
    "#remove 2 columns for low accuracy rate\n",
    "incorrect_p = incorrect.drop('Guassian Naive bayes', 1)\n",
    "\n",
    "incorrect_rel = pandas.DataFrame(index=incorrect_p.columns, columns=incorrect_p.columns)\n",
    "\n",
    "for key1 in incorrect_p.columns:\n",
    "    for key2 in incorrect_p.columns:\n",
    "        tmp = incorrect_p[key1] != incorrect_p[key2]\n",
    "        incorrect_rel[key1][key2] = tmp.sum()\n",
    "\n",
    "incorrect_rel = incorrect_rel.astype(float)\n",
    "fig = plt.figure(figsize=(8,8))\n",
    "sns.heatmap(incorrect_rel, cmap='RdYlGn_r', linewidths=0.5, annot=True)"
   ]
  },
  {
   "cell_type": "code",
   "execution_count": 15,
   "metadata": {},
   "outputs": [
    {
     "name": "stdout",
     "output_type": "stream",
     "text": [
      "Voting(3) classifier Accuracy: 83.21%\n",
      "Voting(5) classifier Accuracy: 82.09%\n"
     ]
    }
   ],
   "source": [
    "# In the following, we just try to use 3 top classifer to form a voting classifier\n",
    "#Polynomial SVM Accuracy: 84.33%\n",
    "#XGboost Accuracy: 83.58%\n",
    "#RBF SVM Accuracy: 82.84%\n",
    "#Bernoulli Naive bayes Accuracy: 82.09%\n",
    "#Logistic Accuracy: 81.72%\n",
    "#Neural Network Accuracy: 81.72%\n",
    "#Random forest Accuracy: 81.34%\n",
    "#Linear SVM Accuracy: 81.34%\n",
    "#Extra tree Accuracy: 81.34%\n",
    "#Guassian Naive bayes Accuracy: 60.45%\n",
    "\n",
    "from sklearn.ensemble import VotingClassifier\n",
    "clf1 = SVC(kernel='poly')\n",
    "clf2 = XGBClassifier()\n",
    "clf3 = SVC()\n",
    "clf4 = BernoulliNB()\n",
    "clf5 = LogisticRegression()\n",
    "clf6 = RandomForestClassifier()\n",
    "\n",
    "eclf1 = VotingClassifier(estimators=[('polysvc', clf1), ('xgb', clf2), ('rbf svm', clf3)], voting='hard')\n",
    "\n",
    "eclf1.fit(X_train, y_train) \n",
    "y_pred = eclf1.predict(X_test)\n",
    "predictions = [round(value) for value in y_pred]\n",
    "accuracy = calc_accuracy(y_test, predictions)\n",
    "print(\"%s Accuracy: %.2f%%\" % (\"Voting(3) classifier\", accuracy * 100.0))\n",
    "\n",
    "eclf2 = VotingClassifier(estimators=[('polysvc', clf1), ('xgb', clf2), ('rbf svm', clf3), ('bnb', clf4), ('lr', clf5)], voting='hard')\n",
    "eclf2.fit(X_train, y_train) \n",
    "y_pred = eclf2.predict(X_test)\n",
    "predictions = [round(value) for value in y_pred]\n",
    "accuracy = calc_accuracy(y_test, predictions)\n",
    "print(\"%s Accuracy: %.2f%%\" % (\"Voting(5) classifier\", accuracy * 100.0))"
   ]
  },
  {
   "cell_type": "markdown",
   "metadata": {},
   "source": [
    "## Error case analysis"
   ]
  },
  {
   "cell_type": "markdown",
   "metadata": {
    "collapsed": true
   },
   "source": [
    "## Outcome, what have we learnt?"
   ]
  },
  {
   "cell_type": "code",
   "execution_count": 17,
   "metadata": {},
   "outputs": [
    {
     "name": "stdout",
     "output_type": "stream",
     "text": [
      "Accuracy: 83.96%\n"
     ]
    }
   ],
   "source": [
    "# A sample submission of the best model\n",
    "\n",
    "clf = SVC(kernel='poly')\n",
    "clf.fit(X_train, y_train)\n",
    "\n",
    "# make predictions for test data\n",
    "y_pred = clf.predict(X_test)\n",
    "predictions = [round(value) for value in y_pred]\n",
    "# evaluate predictions\n",
    "accuracy = accuracy_score(y_test, predictions)\n",
    "print(\"Accuracy: %.2f%%\" % (accuracy * 100.0))\n",
    "\n",
    "r_pred = clf.predict(test_dataset_onehot)\n",
    "r_predictions = [int(round(value)) for value in r_pred]\n",
    "\n",
    "submission_df = pandas.DataFrame(index=test_dataset.index, columns=[\"Survived\"])\n",
    "submission_df[\"Survived\"] = r_predictions\n",
    "submission_df.to_csv(\"submission_poly.csv\", sep=',')"
   ]
  },
  {
   "cell_type": "code",
   "execution_count": null,
   "metadata": {
    "collapsed": true
   },
   "outputs": [],
   "source": []
  }
 ],
 "metadata": {
  "kernelspec": {
   "display_name": "Python 3",
   "language": "python",
   "name": "python3"
  },
  "language_info": {
   "codemirror_mode": {
    "name": "ipython",
    "version": 3
   },
   "file_extension": ".py",
   "mimetype": "text/x-python",
   "name": "python",
   "nbconvert_exporter": "python",
   "pygments_lexer": "ipython3",
   "version": "3.5.3"
  }
 },
 "nbformat": 4,
 "nbformat_minor": 2
}
