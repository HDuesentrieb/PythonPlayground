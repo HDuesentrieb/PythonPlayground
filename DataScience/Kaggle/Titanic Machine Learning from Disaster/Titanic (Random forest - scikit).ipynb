{
 "cells": [
  {
   "cell_type": "code",
   "execution_count": 1,
   "metadata": {
    "collapsed": true
   },
   "outputs": [],
   "source": []
  },
  {
   "cell_type": "code",
   "execution_count": null,
   "metadata": {
    "collapsed": true
   },
   "outputs": [],
   "source": [
    "import numpy as np\n",
    "import tensorflow as tf\n",
    "import matplotlib.pyplot as plt\n",
    "import pandas\n",
    "from sklearn.ensemble import RandomForestClassifier\n",
    "from sklearn.ensemble import ExtraTreesClassifier\n",
    "from sklearn.tree import DecisionTreeClassifier\n",
    "from sklearn.model_selection import train_test_split\n",
    "from sklearn.metrics import accuracy_score\n",
    "\n",
    "%matplotlib inline"
   ]
  },
  {
   "cell_type": "code",
   "execution_count": 24,
   "metadata": {
    "collapsed": true
   },
   "outputs": [],
   "source": [
    "#load training data\n",
    "train_raw = pandas.read_csv('train.csv', sep=',', index_col=0)\n",
    "\n",
    "#load test data (with answer)\n",
    "test_raw = pandas.read_csv('test.csv', sep=',', index_col=0)\n",
    "gender_sub = pandas.read_csv('gender_submission.csv', sep=',', index_col=0)\n",
    "\n",
    "data_len = len(train_raw)\n",
    "itest_len = data_len // 10\n",
    "valid_len = data_len // 10 * 2\n",
    "train_len = data_len - valid_len - itest_len\n",
    "\n",
    "test_len = len(test_raw)\n",
    "\n",
    "def from_panda_to_numpy(df, \n",
    "                        age_min, age_max, \n",
    "                        sibsp_min, sibsp_max, \n",
    "                        parch_min, parch_max,\n",
    "                        fare_min, fare_max ):\n",
    "    df_len = len(df)\n",
    "\n",
    "    def convert_name_to_label(names_):\n",
    "        lower_name = names_.str.lower()\n",
    "        result = np.zeros(len(names_))\n",
    "        result[lower_name.str.contains('mrs.')] = 1\n",
    "        result[lower_name.str.contains('mr.')] = 2\n",
    "        result[lower_name.str.contains('ms.')] = 3\n",
    "        result[lower_name.str.contains('mlle.')] = 4\n",
    "        result[lower_name.str.contains('miss.')] = 5\n",
    "        result[lower_name.str.contains('sir.')] = 6\n",
    "        result[lower_name.str.contains('rev.')] = 7\n",
    "        result[lower_name.str.contains('mme.')] = 8\n",
    "        result[lower_name.str.contains('master.')] = 9\n",
    "        result[lower_name.str.contains('major.')] = 10\n",
    "        result[lower_name.str.contains('lady.')] = 11\n",
    "        result[lower_name.str.contains('jonkheer.')] = 12\n",
    "        result[lower_name.str.contains('dr.')] = 13\n",
    "        result[lower_name.str.contains('don.')] = 14\n",
    "        result[lower_name.str.contains('col.')] = 15\n",
    "        result[lower_name.str.contains('capt.')] = 16\n",
    "        result[lower_name.str.contains('countess.')] = 17\n",
    "\n",
    "        return result\n",
    "    \n",
    "    def convert_sex_to_label(sex_):\n",
    "        lower_sex = sex_.str.lower()\n",
    "        result = np.zeros(len(sex_))\n",
    "        result[lower_sex == 'male'] = 0\n",
    "        result[lower_sex == 'female'] = 1\n",
    "\n",
    "        return result\n",
    "\n",
    "    def convert_cabin_to_label(cabin_):\n",
    "        lower_cabin = cabin_.str.lower()\n",
    "        result = pandas.\n",
    "        lower_cabin = lower_cabin.replace(np.nan, '', regex=True)\n",
    "        result[lower_cabin.str.contains('a')] = 1\n",
    "        result[lower_cabin.str.contains('b')] = 2\n",
    "        result[lower_cabin.str.contains('c')] = 3\n",
    "        result[lower_cabin.str.contains('d')] = 4\n",
    "        result[lower_cabin.str.contains('e')] = 5\n",
    "        result[lower_cabin.str.contains('f')] = 6\n",
    "        result[lower_cabin.str.contains('g')] = 7\n",
    "        result[lower_cabin.str.contains('t')] = 8\n",
    "\n",
    "        return result\n",
    "\n",
    "    def convert_embark_to_label(embark_):\n",
    "        lower_embark = embark_.str.lower()\n",
    "        result = np.zeros(len(cabin_))\n",
    "        result[lower_embark.str.contains('c')] = 1\n",
    "        result[lower_embark.str.contains('q')] = 2\n",
    "        result[lower_embark.str.contains('s')] = 3\n",
    "        \n",
    "    def clean_up_age(age_):\n",
    "        result = np.zeros(len(age_), dtype=np.float32)\n",
    "        result[:] = age_\n",
    "        result[np.isnan(result)] = -1\n",
    "        result[result < 1] *= 100 \n",
    "        \n",
    "        return result\n",
    "    \n",
    "    def clean_up_fare(fare_):\n",
    "        result = np.zeros(len(fare_), dtype=np.float32)\n",
    "        result[:] = fare_\n",
    "        result[np.isnan(result)] = 0\n",
    "        \n",
    "        return result\n",
    "        \n",
    "        \n",
    "    full_dataset = np.zeros((df_len, 32), dtype=np.float32)\n",
    "    full_dataset[:, 0] = df[\"Pclass\"] / 3\n",
    "    salutaion_ = convert_name_to_label(df[\"Name\"])\n",
    "    full_dataset[:, 1] = salutaion_ == 1\n",
    "    full_dataset[:, 2] = salutaion_ == 2\n",
    "    full_dataset[:, 3] = salutaion_ == 3\n",
    "    full_dataset[:, 4] = salutaion_ == 4\n",
    "    full_dataset[:, 5] = salutaion_ == 5\n",
    "    full_dataset[:, 6] = salutaion_ == 6\n",
    "    full_dataset[:, 7] = salutaion_ == 7\n",
    "    full_dataset[:, 8] = salutaion_ == 8\n",
    "    full_dataset[:, 9] = salutaion_ == 9\n",
    "    full_dataset[:, 10] = salutaion_ == 10\n",
    "    full_dataset[:, 11] = salutaion_ == 11\n",
    "    full_dataset[:, 12] = salutaion_ == 12\n",
    "    full_dataset[:, 13] = salutaion_ == 13\n",
    "    full_dataset[:, 14] = salutaion_ == 14\n",
    "    full_dataset[:, 15] = salutaion_ == 15\n",
    "    full_dataset[:, 16] = salutaion_ == 16\n",
    "    full_dataset[:, 17] = salutaion_ == 17\n",
    "    full_dataset[:, 18] = convert_sex_to_label(df[\"Sex\"])\n",
    "    full_dataset[:, 19] = (clean_up_age(df[\"Age\"]) - age_min) / (age_max - age_min)\n",
    "    full_dataset[:, 20] = (df[\"SibSp\"] - sibsp_min) / (sibsp_max - sibsp_min)\n",
    "    full_dataset[:, 21] = (df[\"Parch\"] - parch_min) / (parch_max - parch_min)\n",
    "    full_dataset[:, 22] = (clean_up_fare(df[\"Fare\"]) - fare_min) / (fare_max - fare_min)\n",
    "    carbin_type = convert_cabin_to_label(df[\"Cabin\"])\n",
    "    full_dataset[:, 23] = carbin_type == 0\n",
    "    full_dataset[:, 24] = carbin_type == 1\n",
    "    full_dataset[:, 25] = carbin_type == 2\n",
    "    full_dataset[:, 26] = carbin_type == 3\n",
    "    full_dataset[:, 27] = carbin_type == 4\n",
    "    full_dataset[:, 28] = carbin_type == 5\n",
    "    full_dataset[:, 29] = carbin_type == 6\n",
    "    full_dataset[:, 30] = carbin_type == 7\n",
    "    full_dataset[:, 31] = carbin_type == 8\n",
    "    \n",
    "    return full_dataset\n",
    "\n",
    "age_min_ = min(0, train_raw[\"Age\"].min())\n",
    "age_max_ = train_raw[\"Age\"].max()\n",
    "sibsp_min_ = train_raw[\"SibSp\"].min()\n",
    "sibsp_max_ = train_raw[\"SibSp\"].max()\n",
    "parch_min_ = train_raw[\"Parch\"].min()\n",
    "parch_max_ = train_raw[\"Parch\"].max()\n",
    "fare_min_ = train_raw[\"Fare\"].min()\n",
    "fare_max_ = train_raw[\"Fare\"].max()\n",
    "    \n",
    "full_dataset = from_panda_to_numpy(train_raw, \n",
    "                                   age_min_, age_max_, sibsp_min_, sibsp_max_, parch_min_, parch_max_, fare_min_, fare_max_)\n",
    "full_label = np.zeros((data_len), dtype=np.float32)\n",
    "full_label[:] = train_raw[\"Survived\"]\n",
    "\n",
    "test_dataset = from_panda_to_numpy(test_raw,\n",
    "                                   age_min_, age_max_, sibsp_min_, sibsp_max_, parch_min_, parch_max_, fare_min_, fare_max_)\n",
    "test_labels = np.zeros((test_len), dtype=np.float32)\n",
    "test_labels[:] = gender_sub[\"Survived\"]"
   ]
  },
  {
   "cell_type": "code",
   "execution_count": 25,
   "metadata": {
    "collapsed": true
   },
   "outputs": [],
   "source": [
    "seed = 7\n",
    "test_size = 0.3\n",
    "X_train, X_test, y_train, y_test = train_test_split(full_dataset, full_label, test_size=test_size, random_state=seed)"
   ]
  },
  {
   "cell_type": "code",
   "execution_count": 26,
   "metadata": {},
   "outputs": [
    {
     "data": {
      "text/plain": [
       "RandomForestClassifier(bootstrap=True, class_weight=None, criterion='gini',\n",
       "            max_depth=None, max_features='auto', max_leaf_nodes=None,\n",
       "            min_impurity_split=1e-07, min_samples_leaf=1,\n",
       "            min_samples_split=2, min_weight_fraction_leaf=0.0,\n",
       "            n_estimators=10, n_jobs=1, oob_score=False, random_state=0,\n",
       "            verbose=0, warm_start=False)"
      ]
     },
     "execution_count": 26,
     "metadata": {},
     "output_type": "execute_result"
    }
   ],
   "source": [
    "clf = RandomForestClassifier(n_estimators=4, max_depth=None, min_samples_split=2, random_state=0)      \n",
    "clf.fit(X_train, y_train)"
   ]
  },
  {
   "cell_type": "code",
   "execution_count": 27,
   "metadata": {},
   "outputs": [
    {
     "name": "stdout",
     "output_type": "stream",
     "text": [
      "Accuracy: 74.25%\n"
     ]
    }
   ],
   "source": [
    "# make predictions for test data\n",
    "y_pred = clf.predict(X_test)\n",
    "predictions = [round(value) for value in y_pred]\n",
    "# evaluate predictions\n",
    "accuracy = accuracy_score(y_test, predictions)\n",
    "print(\"Accuracy: %.2f%%\" % (accuracy * 100.0))"
   ]
  },
  {
   "cell_type": "code",
   "execution_count": 28,
   "metadata": {
    "collapsed": true
   },
   "outputs": [],
   "source": [
    "#output dataset for submission\n",
    "r_pred = clf.predict(test_dataset)\n",
    "r_predictions = [int(round(value)) for value in r_pred]\n",
    "\n",
    "submission_df = pandas.DataFrame(index=gender_sub.index, columns=[\"Survived\"])\n",
    "submission_df[\"Survived\"] = r_predictions\n",
    "submission_df.to_csv(\"submission_rf.csv\", sep=',')"
   ]
  },
  {
   "cell_type": "code",
   "execution_count": 1,
   "metadata": {},
   "outputs": [
    {
     "ename": "NameError",
     "evalue": "name 'DecisionTreeClassifier' is not defined",
     "output_type": "error",
     "traceback": [
      "\u001b[1;31m---------------------------------------------------------------------------\u001b[0m",
      "\u001b[1;31mNameError\u001b[0m                                 Traceback (most recent call last)",
      "\u001b[1;32m<ipython-input-1-42d9041dfd91>\u001b[0m in \u001b[0;36m<module>\u001b[1;34m()\u001b[0m\n\u001b[1;32m----> 1\u001b[1;33m \u001b[0mclf2\u001b[0m \u001b[1;33m=\u001b[0m \u001b[0mDecisionTreeClassifier\u001b[0m\u001b[1;33m(\u001b[0m\u001b[0mn_estimators\u001b[0m\u001b[1;33m=\u001b[0m\u001b[1;36m10\u001b[0m\u001b[1;33m,\u001b[0m \u001b[0mmax_depth\u001b[0m\u001b[1;33m=\u001b[0m\u001b[1;32mNone\u001b[0m\u001b[1;33m,\u001b[0m \u001b[0mmin_samples_split\u001b[0m\u001b[1;33m=\u001b[0m\u001b[1;36m2\u001b[0m\u001b[1;33m,\u001b[0m \u001b[0mrandom_state\u001b[0m\u001b[1;33m=\u001b[0m\u001b[1;36m0\u001b[0m\u001b[1;33m)\u001b[0m\u001b[1;33m\u001b[0m\u001b[0m\n\u001b[0m\u001b[0;32m      2\u001b[0m \u001b[0mclf2\u001b[0m\u001b[1;33m.\u001b[0m\u001b[0mfit\u001b[0m\u001b[1;33m(\u001b[0m\u001b[0mX_train\u001b[0m\u001b[1;33m,\u001b[0m \u001b[0my_train\u001b[0m\u001b[1;33m)\u001b[0m\u001b[1;33m\u001b[0m\u001b[0m\n\u001b[0;32m      3\u001b[0m \u001b[1;33m\u001b[0m\u001b[0m\n\u001b[0;32m      4\u001b[0m \u001b[0mexport_graphviz\u001b[0m\u001b[1;33m(\u001b[0m\u001b[0mclf2\u001b[0m\u001b[1;33m,\u001b[0m \u001b[0mout_file\u001b[0m\u001b[1;33m=\u001b[0m\u001b[1;34m\"clf2.dot\"\u001b[0m\u001b[1;33m)\u001b[0m\u001b[1;33m\u001b[0m\u001b[0m\n\u001b[0;32m      5\u001b[0m \u001b[1;32mwith\u001b[0m \u001b[0mopen\u001b[0m\u001b[1;33m(\u001b[0m\u001b[1;34m\"clf2.dot\"\u001b[0m\u001b[1;33m)\u001b[0m \u001b[1;32mas\u001b[0m \u001b[0mf\u001b[0m\u001b[1;33m:\u001b[0m\u001b[1;33m\u001b[0m\u001b[0m\n",
      "\u001b[1;31mNameError\u001b[0m: name 'DecisionTreeClassifier' is not defined"
     ]
    }
   ],
   "source": [
    "\n"
   ]
  },
  {
   "cell_type": "code",
   "execution_count": null,
   "metadata": {
    "collapsed": true
   },
   "outputs": [],
   "source": []
  }
 ],
 "metadata": {
  "kernelspec": {
   "display_name": "Python 3",
   "language": "python",
   "name": "python3"
  },
  "language_info": {
   "codemirror_mode": {
    "name": "ipython",
    "version": 3
   },
   "file_extension": ".py",
   "mimetype": "text/x-python",
   "name": "python",
   "nbconvert_exporter": "python",
   "pygments_lexer": "ipython3",
   "version": "3.5.3"
  }
 },
 "nbformat": 4,
 "nbformat_minor": 2
}
